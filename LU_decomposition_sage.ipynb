{
 "cells": [
  {
   "cell_type": "markdown",
   "id": "80386868",
   "metadata": {},
   "source": [
    "# LU Decomposition in SageMath:\n",
    "\n",
    "\n",
    "$$ A = \\begin{pmatrix}\n",
    "1 & 1 & 1 \\\\\n",
    "1 & 2 & 3 \\\\\n",
    "3 & 4 & k\n",
    "\\end{pmatrix}$$\n",
    "\n",
    "\n",
    "\\-  Verify the existence of LU decomposition of matrix $A$ depending on the value of parameter $k$.\n",
    "\n",
    "\\-  For $k=4$ determine the LU decomposition of matrix $A$ using exact calculations and numerical calculations, compare the obtained results and then use the obtained decompositions to determine the solutions of the system of equations: $$A\\cdot x = B$$\n",
    "\n",
    "for $B = [2,3,7]^T$ compare the result of exact calculations with the result of numerical calculations."
   ]
  },
  {
   "cell_type": "code",
   "execution_count": 1,
   "id": "c70b0ca5",
   "metadata": {},
   "outputs": [],
   "source": [
    "var('k')\n",
    "A = Matrix(SR,[[1,1,1],[1,2,3],[3,4,k]])"
   ]
  },
  {
   "cell_type": "code",
   "execution_count": 2,
   "id": "641d70b5",
   "metadata": {},
   "outputs": [],
   "source": [
    "def LU_existance(MATRIX):\n",
    "    if MATRIX.is_square():\n",
    "        n = MATRIX.nrows()\n",
    "        for i in range(1,n+1):\n",
    "            det_minor_list = []\n",
    "            minor = MATRIX.submatrix(0,0,i,i)\n",
    "            det_minor = det(minor)\n",
    "            det_minor_list.append((i,det_minor))\n",
    "        for i, det_minor in det_minor_list:\n",
    "            if det_minor == 0:\n",
    "                show(\"There is no LU decomposition of the matrix\", MATRIX, \"because its \",i, \"leading principal minor is equal to zero.\")\n",
    "                break\n",
    "        show(\"The matrix :\", MATRIX, \"has a LU decomposition because it is quadratic, and has all leading principal minors different from zero.\")\n",
    "    else:\n",
    "        show(\"The matrix :\", MATRIX, \"has no LU decomposition because it is not quadratic.\")\n",
    "            "
   ]
  },
  {
   "cell_type": "code",
   "execution_count": 3,
   "id": "ea24fd48",
   "metadata": {},
   "outputs": [],
   "source": [
    "def LU_existance_for_parameter(MATRIX, variable, return_k_zeros = False):\n",
    "    if MATRIX.is_square():\n",
    "        n = MATRIX.nrows()\n",
    "        k_zero = solve(det(MATRIX)==0, variable)\n",
    "        for i in range(1,n+1):\n",
    "            det_minor_list = []\n",
    "            minor = MATRIX.submatrix(0,0,i,i)\n",
    "            det_minor = det(minor)\n",
    "            det_minor_list.append(det_minor)\n",
    "        for det_minor in det_minor_list:\n",
    "            if det_minor == 0:\n",
    "                show(\"There is no LU decomposition of the matrix\", MATRIX)\n",
    "        show(\"The matrix:\", MATRIX,\" has a LU decomposition for :\", variable, \" different from: \", k_zero)\n",
    "    else:\n",
    "        show(\"The matrix :\", MATRIX,\"has no LU decomposition\")\n",
    "    if return_k_zeros == True:\n",
    "        return k_zero\n",
    "            "
   ]
  },
  {
   "cell_type": "code",
   "execution_count": 4,
   "id": "098eb13b",
   "metadata": {},
   "outputs": [
    {
     "data": {
      "text/html": [
       "<html>\\(\\displaystyle \\verb|The|\\verb| |\\verb|matrix:| \\left(\\begin{array}{rrr}\n",
       "1 & 1 & 1 \\\\\n",
       "1 & 2 & 3 \\\\\n",
       "3 & 4 & k\n",
       "\\end{array}\\right) \\verb| |\\verb|has|\\verb| |\\verb|a|\\verb| |\\verb|LU|\\verb| |\\verb|decomposition|\\verb| |\\verb|for|\\verb| |\\verb|:| k \\verb| |\\verb|different|\\verb| |\\verb|from:| \\left[k = 5\\right]\\)</html>"
      ],
      "text/latex": [
       "$\\displaystyle \\verb|The|\\verb| |\\verb|matrix:| \\left(\\begin{array}{rrr}\n",
       "1 & 1 & 1 \\\\\n",
       "1 & 2 & 3 \\\\\n",
       "3 & 4 & k\n",
       "\\end{array}\\right) \\verb| |\\verb|has|\\verb| |\\verb|a|\\verb| |\\verb|LU|\\verb| |\\verb|decomposition|\\verb| |\\verb|for|\\verb| |\\verb|:| k \\verb| |\\verb|different|\\verb| |\\verb|from:| \\left[k = 5\\right]$"
      ],
      "text/plain": [
       "'The matrix:' [1 1 1]\n",
       "[1 2 3]\n",
       "[3 4 k] ' has a LU decomposition for :' k ' different from: ' [k == 5]"
      ]
     },
     "metadata": {},
     "output_type": "display_data"
    }
   ],
   "source": [
    "LU_existance_for_parameter(A,k)"
   ]
  },
  {
   "cell_type": "code",
   "execution_count": 5,
   "id": "1317478d",
   "metadata": {},
   "outputs": [],
   "source": [
    "A = Matrix(SR,[[1,1,1],[1,2,3],[3,4,4]])"
   ]
  },
  {
   "cell_type": "code",
   "execution_count": 6,
   "id": "e04968a5",
   "metadata": {},
   "outputs": [
    {
     "data": {
      "text/html": [
       "<html>\\(\\displaystyle \\verb|The|\\verb| |\\verb|matrix|\\verb| |\\verb|:| \\left(\\begin{array}{rrr}\n",
       "1 & 1 & 1 \\\\\n",
       "1 & 2 & 3 \\\\\n",
       "3 & 4 & 4\n",
       "\\end{array}\\right) \\verb|has|\\verb| |\\verb|a|\\verb| |\\verb|LU|\\verb| |\\verb|decomposition|\\verb| |\\verb|because|\\verb| |\\verb|it|\\verb| |\\verb|is|\\verb| |\\verb|quadratic,|\\verb| |\\verb|and|\\verb| |\\verb|has|\\verb| |\\verb|all|\\verb| |\\verb|leading|\\verb| |\\verb|principal|\\verb| |\\verb|minors|\\verb| |\\verb|different|\\verb| |\\verb|from|\\verb| |\\verb|zero.|\\)</html>"
      ],
      "text/latex": [
       "$\\displaystyle \\verb|The|\\verb| |\\verb|matrix|\\verb| |\\verb|:| \\left(\\begin{array}{rrr}\n",
       "1 & 1 & 1 \\\\\n",
       "1 & 2 & 3 \\\\\n",
       "3 & 4 & 4\n",
       "\\end{array}\\right) \\verb|has|\\verb| |\\verb|a|\\verb| |\\verb|LU|\\verb| |\\verb|decomposition|\\verb| |\\verb|because|\\verb| |\\verb|it|\\verb| |\\verb|is|\\verb| |\\verb|quadratic,|\\verb| |\\verb|and|\\verb| |\\verb|has|\\verb| |\\verb|all|\\verb| |\\verb|leading|\\verb| |\\verb|principal|\\verb| |\\verb|minors|\\verb| |\\verb|different|\\verb| |\\verb|from|\\verb| |\\verb|zero.|$"
      ],
      "text/plain": [
       "'The matrix :' [1 1 1]\n",
       "[1 2 3]\n",
       "[3 4 4] 'has a LU decomposition because it is quadratic, and has all leading principal minors different from zero.'"
      ]
     },
     "metadata": {},
     "output_type": "display_data"
    }
   ],
   "source": [
    "LU_existance(A)"
   ]
  },
  {
   "cell_type": "code",
   "execution_count": 7,
   "id": "c6e9f7eb",
   "metadata": {},
   "outputs": [],
   "source": [
    "def LU(M, pierscien = SR, numeryczne = False, cyfry = False, etapy = False):\n",
    "    show(\"We will perform an LU decomposition of the matrix :\",A)\n",
    "    \n",
    "    m = M.ncols()\n",
    "    L = zero_matrix(pierscien, m)\n",
    "    U = zero_matrix(pierscien, m)\n",
    "    for i in range(m): \n",
    "        if numeryczne:    \n",
    "            for k in range(i, m):\n",
    "                sum_ = 0\n",
    "                for j in range(i):\n",
    "                    sum_ += L[i, j].n(digits = cyfry) * U[j, k].n(digits = cyfry)\n",
    "                U[i, k] = M[i, k].n(digits = cyfry) - sum_\n",
    "            for k in range(i, m):\n",
    "                if i == k:\n",
    "                    L[i, i] = 1\n",
    "                else:\n",
    "                    sum_ = 0\n",
    "                    for j in range(i):\n",
    "                        sum_ += L[k, j].n(digits = cyfry) * U[j, i].n(digits = cyfry)\n",
    "                    L[k, i] = (M[k, i].n(digits = cyfry) - sum_) / U[i, i].n(digits = cyfry)   \n",
    "            if etapy:\n",
    "                print(\"--------------\")\n",
    "                show(f\"| Step: {i+1} |\")\n",
    "                print(\"--------------\")\n",
    "                show(L, U)\n",
    "\n",
    "        else:\n",
    "            for k in range(i, m):\n",
    "                sum_ = 0\n",
    "                for j in range(i):\n",
    "                    sum_ += L[i, j] * U[j, k]\n",
    "                U[i, k] = M[i, k] - sum_\n",
    "            for k in range(i, m):\n",
    "                if i == k:\n",
    "                    L[i, i] = 1\n",
    "                else:\n",
    "                    sum_ = 0\n",
    "                    for j in range(i):\n",
    "                        sum_ += L[k, j] * U[j, i]\n",
    "                    L[k, i] = (M[k, i] - sum_) / U[i, i]\n",
    "            if etapy:\n",
    "                print(\"--------------\")\n",
    "                show(f\"| Step: {i+1} |\")\n",
    "                print(\"--------------\\n\")\n",
    "                show(L, U)\n",
    "    return L, U"
   ]
  },
  {
   "cell_type": "code",
   "execution_count": 8,
   "id": "3f9147b0",
   "metadata": {},
   "outputs": [
    {
     "data": {
      "text/html": [
       "<html>\\(\\displaystyle \\verb|We|\\verb| |\\verb|will|\\verb| |\\verb|perform|\\verb| |\\verb|an|\\verb| |\\verb|LU|\\verb| |\\verb|decomposition|\\verb| |\\verb|of|\\verb| |\\verb|the|\\verb| |\\verb|matrix|\\verb| |\\verb|:| \\left(\\begin{array}{rrr}\n",
       "1 & 1 & 1 \\\\\n",
       "1 & 2 & 3 \\\\\n",
       "3 & 4 & 4\n",
       "\\end{array}\\right)\\)</html>"
      ],
      "text/latex": [
       "$\\displaystyle \\verb|We|\\verb| |\\verb|will|\\verb| |\\verb|perform|\\verb| |\\verb|an|\\verb| |\\verb|LU|\\verb| |\\verb|decomposition|\\verb| |\\verb|of|\\verb| |\\verb|the|\\verb| |\\verb|matrix|\\verb| |\\verb|:| \\left(\\begin{array}{rrr}\n",
       "1 & 1 & 1 \\\\\n",
       "1 & 2 & 3 \\\\\n",
       "3 & 4 & 4\n",
       "\\end{array}\\right)$"
      ],
      "text/plain": [
       "'We will perform an LU decomposition of the matrix :' [1 1 1]\n",
       "[1 2 3]\n",
       "[3 4 4]"
      ]
     },
     "metadata": {},
     "output_type": "display_data"
    },
    {
     "name": "stdout",
     "output_type": "stream",
     "text": [
      "--------------\n"
     ]
    },
    {
     "data": {
      "text/html": [
       "<html>\\(\\displaystyle \\verb\"|\"\\verb\" \"\\verb\"Step:\"\\verb\" \"\\verb\"1\"\\verb\" \"\\verb\"|\"\\)</html>"
      ],
      "text/latex": [
       "$\\displaystyle \\verb\"|\"\\verb\" \"\\verb\"Step:\"\\verb\" \"\\verb\"1\"\\verb\" \"\\verb\"|\"$"
      ],
      "text/plain": [
       "'| Step: 1 |'"
      ]
     },
     "metadata": {},
     "output_type": "display_data"
    },
    {
     "name": "stdout",
     "output_type": "stream",
     "text": [
      "--------------\n",
      "\n"
     ]
    },
    {
     "data": {
      "text/html": [
       "<html>\\(\\displaystyle \\left(\\begin{array}{rrr}\n",
       "1 & 0 & 0 \\\\\n",
       "1 & 0 & 0 \\\\\n",
       "3 & 0 & 0\n",
       "\\end{array}\\right) \\left(\\begin{array}{rrr}\n",
       "1 & 1 & 1 \\\\\n",
       "0 & 0 & 0 \\\\\n",
       "0 & 0 & 0\n",
       "\\end{array}\\right)\\)</html>"
      ],
      "text/latex": [
       "$\\displaystyle \\left(\\begin{array}{rrr}\n",
       "1 & 0 & 0 \\\\\n",
       "1 & 0 & 0 \\\\\n",
       "3 & 0 & 0\n",
       "\\end{array}\\right) \\left(\\begin{array}{rrr}\n",
       "1 & 1 & 1 \\\\\n",
       "0 & 0 & 0 \\\\\n",
       "0 & 0 & 0\n",
       "\\end{array}\\right)$"
      ],
      "text/plain": [
       "[1 0 0]\n",
       "[1 0 0]\n",
       "[3 0 0] [1 1 1]\n",
       "[0 0 0]\n",
       "[0 0 0]"
      ]
     },
     "metadata": {},
     "output_type": "display_data"
    },
    {
     "name": "stdout",
     "output_type": "stream",
     "text": [
      "--------------\n"
     ]
    },
    {
     "data": {
      "text/html": [
       "<html>\\(\\displaystyle \\verb\"|\"\\verb\" \"\\verb\"Step:\"\\verb\" \"\\verb\"2\"\\verb\" \"\\verb\"|\"\\)</html>"
      ],
      "text/latex": [
       "$\\displaystyle \\verb\"|\"\\verb\" \"\\verb\"Step:\"\\verb\" \"\\verb\"2\"\\verb\" \"\\verb\"|\"$"
      ],
      "text/plain": [
       "'| Step: 2 |'"
      ]
     },
     "metadata": {},
     "output_type": "display_data"
    },
    {
     "name": "stdout",
     "output_type": "stream",
     "text": [
      "--------------\n",
      "\n"
     ]
    },
    {
     "data": {
      "text/html": [
       "<html>\\(\\displaystyle \\left(\\begin{array}{rrr}\n",
       "1 & 0 & 0 \\\\\n",
       "1 & 1 & 0 \\\\\n",
       "3 & 1 & 0\n",
       "\\end{array}\\right) \\left(\\begin{array}{rrr}\n",
       "1 & 1 & 1 \\\\\n",
       "0 & 1 & 2 \\\\\n",
       "0 & 0 & 0\n",
       "\\end{array}\\right)\\)</html>"
      ],
      "text/latex": [
       "$\\displaystyle \\left(\\begin{array}{rrr}\n",
       "1 & 0 & 0 \\\\\n",
       "1 & 1 & 0 \\\\\n",
       "3 & 1 & 0\n",
       "\\end{array}\\right) \\left(\\begin{array}{rrr}\n",
       "1 & 1 & 1 \\\\\n",
       "0 & 1 & 2 \\\\\n",
       "0 & 0 & 0\n",
       "\\end{array}\\right)$"
      ],
      "text/plain": [
       "[1 0 0]\n",
       "[1 1 0]\n",
       "[3 1 0] [1 1 1]\n",
       "[0 1 2]\n",
       "[0 0 0]"
      ]
     },
     "metadata": {},
     "output_type": "display_data"
    },
    {
     "name": "stdout",
     "output_type": "stream",
     "text": [
      "--------------\n"
     ]
    },
    {
     "data": {
      "text/html": [
       "<html>\\(\\displaystyle \\verb\"|\"\\verb\" \"\\verb\"Step:\"\\verb\" \"\\verb\"3\"\\verb\" \"\\verb\"|\"\\)</html>"
      ],
      "text/latex": [
       "$\\displaystyle \\verb\"|\"\\verb\" \"\\verb\"Step:\"\\verb\" \"\\verb\"3\"\\verb\" \"\\verb\"|\"$"
      ],
      "text/plain": [
       "'| Step: 3 |'"
      ]
     },
     "metadata": {},
     "output_type": "display_data"
    },
    {
     "name": "stdout",
     "output_type": "stream",
     "text": [
      "--------------\n",
      "\n"
     ]
    },
    {
     "data": {
      "text/html": [
       "<html>\\(\\displaystyle \\left(\\begin{array}{rrr}\n",
       "1 & 0 & 0 \\\\\n",
       "1 & 1 & 0 \\\\\n",
       "3 & 1 & 1\n",
       "\\end{array}\\right) \\left(\\begin{array}{rrr}\n",
       "1 & 1 & 1 \\\\\n",
       "0 & 1 & 2 \\\\\n",
       "0 & 0 & -1\n",
       "\\end{array}\\right)\\)</html>"
      ],
      "text/latex": [
       "$\\displaystyle \\left(\\begin{array}{rrr}\n",
       "1 & 0 & 0 \\\\\n",
       "1 & 1 & 0 \\\\\n",
       "3 & 1 & 1\n",
       "\\end{array}\\right) \\left(\\begin{array}{rrr}\n",
       "1 & 1 & 1 \\\\\n",
       "0 & 1 & 2 \\\\\n",
       "0 & 0 & -1\n",
       "\\end{array}\\right)$"
      ],
      "text/plain": [
       "[1 0 0]\n",
       "[1 1 0]\n",
       "[3 1 1] [ 1  1  1]\n",
       "[ 0  1  2]\n",
       "[ 0  0 -1]"
      ]
     },
     "metadata": {},
     "output_type": "display_data"
    }
   ],
   "source": [
    "LA,UA = LU(A, etapy = True)"
   ]
  },
  {
   "cell_type": "code",
   "execution_count": 9,
   "id": "f5cb2dcc",
   "metadata": {},
   "outputs": [
    {
     "data": {
      "text/html": [
       "<html>\\(\\displaystyle \\verb|We|\\verb| |\\verb|will|\\verb| |\\verb|perform|\\verb| |\\verb|an|\\verb| |\\verb|LU|\\verb| |\\verb|decomposition|\\verb| |\\verb|of|\\verb| |\\verb|the|\\verb| |\\verb|matrix|\\verb| |\\verb|:| \\left(\\begin{array}{rrr}\n",
       "1 & 1 & 1 \\\\\n",
       "1 & 2 & 3 \\\\\n",
       "3 & 4 & 4\n",
       "\\end{array}\\right)\\)</html>"
      ],
      "text/latex": [
       "$\\displaystyle \\verb|We|\\verb| |\\verb|will|\\verb| |\\verb|perform|\\verb| |\\verb|an|\\verb| |\\verb|LU|\\verb| |\\verb|decomposition|\\verb| |\\verb|of|\\verb| |\\verb|the|\\verb| |\\verb|matrix|\\verb| |\\verb|:| \\left(\\begin{array}{rrr}\n",
       "1 & 1 & 1 \\\\\n",
       "1 & 2 & 3 \\\\\n",
       "3 & 4 & 4\n",
       "\\end{array}\\right)$"
      ],
      "text/plain": [
       "'We will perform an LU decomposition of the matrix :' [1 1 1]\n",
       "[1 2 3]\n",
       "[3 4 4]"
      ]
     },
     "metadata": {},
     "output_type": "display_data"
    },
    {
     "name": "stdout",
     "output_type": "stream",
     "text": [
      "--------------\n"
     ]
    },
    {
     "data": {
      "text/html": [
       "<html>\\(\\displaystyle \\verb\"|\"\\verb\" \"\\verb\"Step:\"\\verb\" \"\\verb\"1\"\\verb\" \"\\verb\"|\"\\)</html>"
      ],
      "text/latex": [
       "$\\displaystyle \\verb\"|\"\\verb\" \"\\verb\"Step:\"\\verb\" \"\\verb\"1\"\\verb\" \"\\verb\"|\"$"
      ],
      "text/plain": [
       "'| Step: 1 |'"
      ]
     },
     "metadata": {},
     "output_type": "display_data"
    },
    {
     "name": "stdout",
     "output_type": "stream",
     "text": [
      "--------------\n"
     ]
    },
    {
     "data": {
      "text/html": [
       "<html>\\(\\displaystyle \\left(\\begin{array}{rrr}\n",
       "1 & 0 & 0 \\\\\n",
       "1.00000 & 0 & 0 \\\\\n",
       "3.00000 & 0 & 0\n",
       "\\end{array}\\right) \\left(\\begin{array}{rrr}\n",
       "1.00000 & 1.00000 & 1.00000 \\\\\n",
       "0 & 0 & 0 \\\\\n",
       "0 & 0 & 0\n",
       "\\end{array}\\right)\\)</html>"
      ],
      "text/latex": [
       "$\\displaystyle \\left(\\begin{array}{rrr}\n",
       "1 & 0 & 0 \\\\\n",
       "1.00000 & 0 & 0 \\\\\n",
       "3.00000 & 0 & 0\n",
       "\\end{array}\\right) \\left(\\begin{array}{rrr}\n",
       "1.00000 & 1.00000 & 1.00000 \\\\\n",
       "0 & 0 & 0 \\\\\n",
       "0 & 0 & 0\n",
       "\\end{array}\\right)$"
      ],
      "text/plain": [
       "[      1       0       0]\n",
       "[1.00000       0       0]\n",
       "[3.00000       0       0] [1.00000 1.00000 1.00000]\n",
       "[      0       0       0]\n",
       "[      0       0       0]"
      ]
     },
     "metadata": {},
     "output_type": "display_data"
    },
    {
     "name": "stdout",
     "output_type": "stream",
     "text": [
      "--------------\n"
     ]
    },
    {
     "data": {
      "text/html": [
       "<html>\\(\\displaystyle \\verb\"|\"\\verb\" \"\\verb\"Step:\"\\verb\" \"\\verb\"2\"\\verb\" \"\\verb\"|\"\\)</html>"
      ],
      "text/latex": [
       "$\\displaystyle \\verb\"|\"\\verb\" \"\\verb\"Step:\"\\verb\" \"\\verb\"2\"\\verb\" \"\\verb\"|\"$"
      ],
      "text/plain": [
       "'| Step: 2 |'"
      ]
     },
     "metadata": {},
     "output_type": "display_data"
    },
    {
     "name": "stdout",
     "output_type": "stream",
     "text": [
      "--------------\n"
     ]
    },
    {
     "data": {
      "text/html": [
       "<html>\\(\\displaystyle \\left(\\begin{array}{rrr}\n",
       "1 & 0 & 0 \\\\\n",
       "1.00000 & 1 & 0 \\\\\n",
       "3.00000 & 1.00000 & 0\n",
       "\\end{array}\\right) \\left(\\begin{array}{rrr}\n",
       "1.00000 & 1.00000 & 1.00000 \\\\\n",
       "0 & 1.00000 & 2.00000 \\\\\n",
       "0 & 0 & 0\n",
       "\\end{array}\\right)\\)</html>"
      ],
      "text/latex": [
       "$\\displaystyle \\left(\\begin{array}{rrr}\n",
       "1 & 0 & 0 \\\\\n",
       "1.00000 & 1 & 0 \\\\\n",
       "3.00000 & 1.00000 & 0\n",
       "\\end{array}\\right) \\left(\\begin{array}{rrr}\n",
       "1.00000 & 1.00000 & 1.00000 \\\\\n",
       "0 & 1.00000 & 2.00000 \\\\\n",
       "0 & 0 & 0\n",
       "\\end{array}\\right)$"
      ],
      "text/plain": [
       "[      1       0       0]\n",
       "[1.00000       1       0]\n",
       "[3.00000 1.00000       0] [1.00000 1.00000 1.00000]\n",
       "[      0 1.00000 2.00000]\n",
       "[      0       0       0]"
      ]
     },
     "metadata": {},
     "output_type": "display_data"
    },
    {
     "name": "stdout",
     "output_type": "stream",
     "text": [
      "--------------\n"
     ]
    },
    {
     "data": {
      "text/html": [
       "<html>\\(\\displaystyle \\verb\"|\"\\verb\" \"\\verb\"Step:\"\\verb\" \"\\verb\"3\"\\verb\" \"\\verb\"|\"\\)</html>"
      ],
      "text/latex": [
       "$\\displaystyle \\verb\"|\"\\verb\" \"\\verb\"Step:\"\\verb\" \"\\verb\"3\"\\verb\" \"\\verb\"|\"$"
      ],
      "text/plain": [
       "'| Step: 3 |'"
      ]
     },
     "metadata": {},
     "output_type": "display_data"
    },
    {
     "name": "stdout",
     "output_type": "stream",
     "text": [
      "--------------\n"
     ]
    },
    {
     "data": {
      "text/html": [
       "<html>\\(\\displaystyle \\left(\\begin{array}{rrr}\n",
       "1 & 0 & 0 \\\\\n",
       "1.00000 & 1 & 0 \\\\\n",
       "3.00000 & 1.00000 & 1\n",
       "\\end{array}\\right) \\left(\\begin{array}{rrr}\n",
       "1.00000 & 1.00000 & 1.00000 \\\\\n",
       "0 & 1.00000 & 2.00000 \\\\\n",
       "0 & 0 & -1.00000\n",
       "\\end{array}\\right)\\)</html>"
      ],
      "text/latex": [
       "$\\displaystyle \\left(\\begin{array}{rrr}\n",
       "1 & 0 & 0 \\\\\n",
       "1.00000 & 1 & 0 \\\\\n",
       "3.00000 & 1.00000 & 1\n",
       "\\end{array}\\right) \\left(\\begin{array}{rrr}\n",
       "1.00000 & 1.00000 & 1.00000 \\\\\n",
       "0 & 1.00000 & 2.00000 \\\\\n",
       "0 & 0 & -1.00000\n",
       "\\end{array}\\right)$"
      ],
      "text/plain": [
       "[      1       0       0]\n",
       "[1.00000       1       0]\n",
       "[3.00000 1.00000       1] [ 1.00000  1.00000  1.00000]\n",
       "[       0  1.00000  2.00000]\n",
       "[       0        0 -1.00000]"
      ]
     },
     "metadata": {},
     "output_type": "display_data"
    }
   ],
   "source": [
    "LA_N,UA_N = LU(A, etapy = True, numeryczne = True, cyfry = 6)"
   ]
  },
  {
   "cell_type": "code",
   "execution_count": 10,
   "id": "00e730cf",
   "metadata": {},
   "outputs": [],
   "source": [
    "def solve_equation_by_LU(A,B, numeric = False, digits = False):\n",
    "    show(\"We'll solve a system of equations of the form: \",A, \"x = \",B.column(), \" using the LU decomposition.\")\n",
    "    print(\"--------------\")\n",
    "    show(\"First, we'll check if there is an LU decomposition of the matrix A = \",A)\n",
    "    LU_existance(A)\n",
    "    print(\"--------------\")\n",
    "    if numeric == True:\n",
    "        L,U = LU(A, numeryczne = True, cyfry = digits, etapy = True)\n",
    "    else:\n",
    "        L,U = LU(A, etapy = True)\n",
    "    print(\"--------------\")\n",
    "    show(\"Thus, we have two systems of equations to solve:\")\n",
    "    print(\"\")\n",
    "    show(\"Ly = B, <===> :\",L,\"y = \",B.column())\n",
    "    print(\"\")\n",
    "    show(\"Ux = y, <===> :\",U,\"x = y\")\n",
    "    print(\"--------------\")\n",
    "    show(\"We're solving: y = L^(-1)B, <===> y =\", L.inverse(),B.column())\n",
    "    print(\"\")\n",
    "    show(\"We're solving: x = U^(-1)y, <===> x =\", U.inverse(),\"y\")\n",
    "    print(\"--------------\")\n",
    "    y = L.inverse()*B\n",
    "    x = U.inverse()*y\n",
    "    show(\"We're computing vector y = \", y.column())\n",
    "    print(\"\")\n",
    "    show(\"Next we're calculating vector x = U^(-1)y, <===> x =\", U.inverse(),y.column())\n",
    "    x = U.inverse()*y\n",
    "    print(\"\")\n",
    "    show(\"We end up calculating x = \",x.column())\n",
    "    return x"
   ]
  },
  {
   "cell_type": "code",
   "execution_count": 11,
   "id": "e30687ef",
   "metadata": {},
   "outputs": [],
   "source": [
    "B = vector([2,3,7])"
   ]
  },
  {
   "cell_type": "code",
   "execution_count": 12,
   "id": "276c61d5",
   "metadata": {},
   "outputs": [
    {
     "data": {
      "text/html": [
       "<html>\\(\\displaystyle \\verb|We'll|\\verb| |\\verb|solve|\\verb| |\\verb|a|\\verb| |\\verb|system|\\verb| |\\verb|of|\\verb| |\\verb|equations|\\verb| |\\verb|of|\\verb| |\\verb|the|\\verb| |\\verb|form:| \\left(\\begin{array}{rrr}\n",
       "1 & 1 & 1 \\\\\n",
       "1 & 2 & 3 \\\\\n",
       "3 & 4 & 4\n",
       "\\end{array}\\right) \\verb|x|\\verb| |\\verb|=| \\left(\\begin{array}{r}\n",
       "2 \\\\\n",
       "3 \\\\\n",
       "7\n",
       "\\end{array}\\right) \\verb| |\\verb|using|\\verb| |\\verb|the|\\verb| |\\verb|LU|\\verb| |\\verb|decomposition.|\\)</html>"
      ],
      "text/latex": [
       "$\\displaystyle \\verb|We'll|\\verb| |\\verb|solve|\\verb| |\\verb|a|\\verb| |\\verb|system|\\verb| |\\verb|of|\\verb| |\\verb|equations|\\verb| |\\verb|of|\\verb| |\\verb|the|\\verb| |\\verb|form:| \\left(\\begin{array}{rrr}\n",
       "1 & 1 & 1 \\\\\n",
       "1 & 2 & 3 \\\\\n",
       "3 & 4 & 4\n",
       "\\end{array}\\right) \\verb|x|\\verb| |\\verb|=| \\left(\\begin{array}{r}\n",
       "2 \\\\\n",
       "3 \\\\\n",
       "7\n",
       "\\end{array}\\right) \\verb| |\\verb|using|\\verb| |\\verb|the|\\verb| |\\verb|LU|\\verb| |\\verb|decomposition.|$"
      ],
      "text/plain": [
       "\"We'll solve a system of equations of the form: \" [1 1 1]\n",
       "[1 2 3]\n",
       "[3 4 4] 'x = ' [2]\n",
       "[3]\n",
       "[7] ' using the LU decomposition.'"
      ]
     },
     "metadata": {},
     "output_type": "display_data"
    },
    {
     "name": "stdout",
     "output_type": "stream",
     "text": [
      "--------------\n"
     ]
    },
    {
     "data": {
      "text/html": [
       "<html>\\(\\displaystyle \\verb|First,|\\verb| |\\verb|we'll|\\verb| |\\verb|check|\\verb| |\\verb|if|\\verb| |\\verb|there|\\verb| |\\verb|is|\\verb| |\\verb|an|\\verb| |\\verb|LU|\\verb| |\\verb|decomposition|\\verb| |\\verb|of|\\verb| |\\verb|the|\\verb| |\\verb|matrix|\\verb| |\\verb|A|\\verb| |\\verb|=| \\left(\\begin{array}{rrr}\n",
       "1 & 1 & 1 \\\\\n",
       "1 & 2 & 3 \\\\\n",
       "3 & 4 & 4\n",
       "\\end{array}\\right)\\)</html>"
      ],
      "text/latex": [
       "$\\displaystyle \\verb|First,|\\verb| |\\verb|we'll|\\verb| |\\verb|check|\\verb| |\\verb|if|\\verb| |\\verb|there|\\verb| |\\verb|is|\\verb| |\\verb|an|\\verb| |\\verb|LU|\\verb| |\\verb|decomposition|\\verb| |\\verb|of|\\verb| |\\verb|the|\\verb| |\\verb|matrix|\\verb| |\\verb|A|\\verb| |\\verb|=| \\left(\\begin{array}{rrr}\n",
       "1 & 1 & 1 \\\\\n",
       "1 & 2 & 3 \\\\\n",
       "3 & 4 & 4\n",
       "\\end{array}\\right)$"
      ],
      "text/plain": [
       "\"First, we'll check if there is an LU decomposition of the matrix A = \" [1 1 1]\n",
       "[1 2 3]\n",
       "[3 4 4]"
      ]
     },
     "metadata": {},
     "output_type": "display_data"
    },
    {
     "data": {
      "text/html": [
       "<html>\\(\\displaystyle \\verb|The|\\verb| |\\verb|matrix|\\verb| |\\verb|:| \\left(\\begin{array}{rrr}\n",
       "1 & 1 & 1 \\\\\n",
       "1 & 2 & 3 \\\\\n",
       "3 & 4 & 4\n",
       "\\end{array}\\right) \\verb|has|\\verb| |\\verb|a|\\verb| |\\verb|LU|\\verb| |\\verb|decomposition|\\verb| |\\verb|because|\\verb| |\\verb|it|\\verb| |\\verb|is|\\verb| |\\verb|quadratic,|\\verb| |\\verb|and|\\verb| |\\verb|has|\\verb| |\\verb|all|\\verb| |\\verb|leading|\\verb| |\\verb|principal|\\verb| |\\verb|minors|\\verb| |\\verb|different|\\verb| |\\verb|from|\\verb| |\\verb|zero.|\\)</html>"
      ],
      "text/latex": [
       "$\\displaystyle \\verb|The|\\verb| |\\verb|matrix|\\verb| |\\verb|:| \\left(\\begin{array}{rrr}\n",
       "1 & 1 & 1 \\\\\n",
       "1 & 2 & 3 \\\\\n",
       "3 & 4 & 4\n",
       "\\end{array}\\right) \\verb|has|\\verb| |\\verb|a|\\verb| |\\verb|LU|\\verb| |\\verb|decomposition|\\verb| |\\verb|because|\\verb| |\\verb|it|\\verb| |\\verb|is|\\verb| |\\verb|quadratic,|\\verb| |\\verb|and|\\verb| |\\verb|has|\\verb| |\\verb|all|\\verb| |\\verb|leading|\\verb| |\\verb|principal|\\verb| |\\verb|minors|\\verb| |\\verb|different|\\verb| |\\verb|from|\\verb| |\\verb|zero.|$"
      ],
      "text/plain": [
       "'The matrix :' [1 1 1]\n",
       "[1 2 3]\n",
       "[3 4 4] 'has a LU decomposition because it is quadratic, and has all leading principal minors different from zero.'"
      ]
     },
     "metadata": {},
     "output_type": "display_data"
    },
    {
     "name": "stdout",
     "output_type": "stream",
     "text": [
      "--------------\n"
     ]
    },
    {
     "data": {
      "text/html": [
       "<html>\\(\\displaystyle \\verb|We|\\verb| |\\verb|will|\\verb| |\\verb|perform|\\verb| |\\verb|an|\\verb| |\\verb|LU|\\verb| |\\verb|decomposition|\\verb| |\\verb|of|\\verb| |\\verb|the|\\verb| |\\verb|matrix|\\verb| |\\verb|:| \\left(\\begin{array}{rrr}\n",
       "1 & 1 & 1 \\\\\n",
       "1 & 2 & 3 \\\\\n",
       "3 & 4 & 4\n",
       "\\end{array}\\right)\\)</html>"
      ],
      "text/latex": [
       "$\\displaystyle \\verb|We|\\verb| |\\verb|will|\\verb| |\\verb|perform|\\verb| |\\verb|an|\\verb| |\\verb|LU|\\verb| |\\verb|decomposition|\\verb| |\\verb|of|\\verb| |\\verb|the|\\verb| |\\verb|matrix|\\verb| |\\verb|:| \\left(\\begin{array}{rrr}\n",
       "1 & 1 & 1 \\\\\n",
       "1 & 2 & 3 \\\\\n",
       "3 & 4 & 4\n",
       "\\end{array}\\right)$"
      ],
      "text/plain": [
       "'We will perform an LU decomposition of the matrix :' [1 1 1]\n",
       "[1 2 3]\n",
       "[3 4 4]"
      ]
     },
     "metadata": {},
     "output_type": "display_data"
    },
    {
     "name": "stdout",
     "output_type": "stream",
     "text": [
      "--------------\n"
     ]
    },
    {
     "data": {
      "text/html": [
       "<html>\\(\\displaystyle \\verb\"|\"\\verb\" \"\\verb\"Step:\"\\verb\" \"\\verb\"1\"\\verb\" \"\\verb\"|\"\\)</html>"
      ],
      "text/latex": [
       "$\\displaystyle \\verb\"|\"\\verb\" \"\\verb\"Step:\"\\verb\" \"\\verb\"1\"\\verb\" \"\\verb\"|\"$"
      ],
      "text/plain": [
       "'| Step: 1 |'"
      ]
     },
     "metadata": {},
     "output_type": "display_data"
    },
    {
     "name": "stdout",
     "output_type": "stream",
     "text": [
      "--------------\n",
      "\n"
     ]
    },
    {
     "data": {
      "text/html": [
       "<html>\\(\\displaystyle \\left(\\begin{array}{rrr}\n",
       "1 & 0 & 0 \\\\\n",
       "1 & 0 & 0 \\\\\n",
       "3 & 0 & 0\n",
       "\\end{array}\\right) \\left(\\begin{array}{rrr}\n",
       "1 & 1 & 1 \\\\\n",
       "0 & 0 & 0 \\\\\n",
       "0 & 0 & 0\n",
       "\\end{array}\\right)\\)</html>"
      ],
      "text/latex": [
       "$\\displaystyle \\left(\\begin{array}{rrr}\n",
       "1 & 0 & 0 \\\\\n",
       "1 & 0 & 0 \\\\\n",
       "3 & 0 & 0\n",
       "\\end{array}\\right) \\left(\\begin{array}{rrr}\n",
       "1 & 1 & 1 \\\\\n",
       "0 & 0 & 0 \\\\\n",
       "0 & 0 & 0\n",
       "\\end{array}\\right)$"
      ],
      "text/plain": [
       "[1 0 0]\n",
       "[1 0 0]\n",
       "[3 0 0] [1 1 1]\n",
       "[0 0 0]\n",
       "[0 0 0]"
      ]
     },
     "metadata": {},
     "output_type": "display_data"
    },
    {
     "name": "stdout",
     "output_type": "stream",
     "text": [
      "--------------\n"
     ]
    },
    {
     "data": {
      "text/html": [
       "<html>\\(\\displaystyle \\verb\"|\"\\verb\" \"\\verb\"Step:\"\\verb\" \"\\verb\"2\"\\verb\" \"\\verb\"|\"\\)</html>"
      ],
      "text/latex": [
       "$\\displaystyle \\verb\"|\"\\verb\" \"\\verb\"Step:\"\\verb\" \"\\verb\"2\"\\verb\" \"\\verb\"|\"$"
      ],
      "text/plain": [
       "'| Step: 2 |'"
      ]
     },
     "metadata": {},
     "output_type": "display_data"
    },
    {
     "name": "stdout",
     "output_type": "stream",
     "text": [
      "--------------\n",
      "\n"
     ]
    },
    {
     "data": {
      "text/html": [
       "<html>\\(\\displaystyle \\left(\\begin{array}{rrr}\n",
       "1 & 0 & 0 \\\\\n",
       "1 & 1 & 0 \\\\\n",
       "3 & 1 & 0\n",
       "\\end{array}\\right) \\left(\\begin{array}{rrr}\n",
       "1 & 1 & 1 \\\\\n",
       "0 & 1 & 2 \\\\\n",
       "0 & 0 & 0\n",
       "\\end{array}\\right)\\)</html>"
      ],
      "text/latex": [
       "$\\displaystyle \\left(\\begin{array}{rrr}\n",
       "1 & 0 & 0 \\\\\n",
       "1 & 1 & 0 \\\\\n",
       "3 & 1 & 0\n",
       "\\end{array}\\right) \\left(\\begin{array}{rrr}\n",
       "1 & 1 & 1 \\\\\n",
       "0 & 1 & 2 \\\\\n",
       "0 & 0 & 0\n",
       "\\end{array}\\right)$"
      ],
      "text/plain": [
       "[1 0 0]\n",
       "[1 1 0]\n",
       "[3 1 0] [1 1 1]\n",
       "[0 1 2]\n",
       "[0 0 0]"
      ]
     },
     "metadata": {},
     "output_type": "display_data"
    },
    {
     "name": "stdout",
     "output_type": "stream",
     "text": [
      "--------------\n"
     ]
    },
    {
     "data": {
      "text/html": [
       "<html>\\(\\displaystyle \\verb\"|\"\\verb\" \"\\verb\"Step:\"\\verb\" \"\\verb\"3\"\\verb\" \"\\verb\"|\"\\)</html>"
      ],
      "text/latex": [
       "$\\displaystyle \\verb\"|\"\\verb\" \"\\verb\"Step:\"\\verb\" \"\\verb\"3\"\\verb\" \"\\verb\"|\"$"
      ],
      "text/plain": [
       "'| Step: 3 |'"
      ]
     },
     "metadata": {},
     "output_type": "display_data"
    },
    {
     "name": "stdout",
     "output_type": "stream",
     "text": [
      "--------------\n",
      "\n"
     ]
    },
    {
     "data": {
      "text/html": [
       "<html>\\(\\displaystyle \\left(\\begin{array}{rrr}\n",
       "1 & 0 & 0 \\\\\n",
       "1 & 1 & 0 \\\\\n",
       "3 & 1 & 1\n",
       "\\end{array}\\right) \\left(\\begin{array}{rrr}\n",
       "1 & 1 & 1 \\\\\n",
       "0 & 1 & 2 \\\\\n",
       "0 & 0 & -1\n",
       "\\end{array}\\right)\\)</html>"
      ],
      "text/latex": [
       "$\\displaystyle \\left(\\begin{array}{rrr}\n",
       "1 & 0 & 0 \\\\\n",
       "1 & 1 & 0 \\\\\n",
       "3 & 1 & 1\n",
       "\\end{array}\\right) \\left(\\begin{array}{rrr}\n",
       "1 & 1 & 1 \\\\\n",
       "0 & 1 & 2 \\\\\n",
       "0 & 0 & -1\n",
       "\\end{array}\\right)$"
      ],
      "text/plain": [
       "[1 0 0]\n",
       "[1 1 0]\n",
       "[3 1 1] [ 1  1  1]\n",
       "[ 0  1  2]\n",
       "[ 0  0 -1]"
      ]
     },
     "metadata": {},
     "output_type": "display_data"
    },
    {
     "name": "stdout",
     "output_type": "stream",
     "text": [
      "--------------\n"
     ]
    },
    {
     "data": {
      "text/html": [
       "<html>\\(\\displaystyle \\verb|Thus,|\\verb| |\\verb|we|\\verb| |\\verb|have|\\verb| |\\verb|two|\\verb| |\\verb|systems|\\verb| |\\verb|of|\\verb| |\\verb|equations|\\verb| |\\verb|to|\\verb| |\\verb|solve:|\\)</html>"
      ],
      "text/latex": [
       "$\\displaystyle \\verb|Thus,|\\verb| |\\verb|we|\\verb| |\\verb|have|\\verb| |\\verb|two|\\verb| |\\verb|systems|\\verb| |\\verb|of|\\verb| |\\verb|equations|\\verb| |\\verb|to|\\verb| |\\verb|solve:|$"
      ],
      "text/plain": [
       "'Thus, we have two systems of equations to solve:'"
      ]
     },
     "metadata": {},
     "output_type": "display_data"
    },
    {
     "name": "stdout",
     "output_type": "stream",
     "text": [
      "\n"
     ]
    },
    {
     "data": {
      "text/html": [
       "<html>\\(\\displaystyle \\verb|Ly|\\verb| |\\verb|=|\\verb| |\\verb|B,|\\verb| |\\verb|&lt;===>|\\verb| |\\verb|:| \\left(\\begin{array}{rrr}\n",
       "1 & 0 & 0 \\\\\n",
       "1 & 1 & 0 \\\\\n",
       "3 & 1 & 1\n",
       "\\end{array}\\right) \\verb|y|\\verb| |\\verb|=| \\left(\\begin{array}{r}\n",
       "2 \\\\\n",
       "3 \\\\\n",
       "7\n",
       "\\end{array}\\right)\\)</html>"
      ],
      "text/latex": [
       "$\\displaystyle \\verb|Ly|\\verb| |\\verb|=|\\verb| |\\verb|B,|\\verb| |\\verb|<===>|\\verb| |\\verb|:| \\left(\\begin{array}{rrr}\n",
       "1 & 0 & 0 \\\\\n",
       "1 & 1 & 0 \\\\\n",
       "3 & 1 & 1\n",
       "\\end{array}\\right) \\verb|y|\\verb| |\\verb|=| \\left(\\begin{array}{r}\n",
       "2 \\\\\n",
       "3 \\\\\n",
       "7\n",
       "\\end{array}\\right)$"
      ],
      "text/plain": [
       "'Ly = B, <===> :' [1 0 0]\n",
       "[1 1 0]\n",
       "[3 1 1] 'y = ' [2]\n",
       "[3]\n",
       "[7]"
      ]
     },
     "metadata": {},
     "output_type": "display_data"
    },
    {
     "name": "stdout",
     "output_type": "stream",
     "text": [
      "\n"
     ]
    },
    {
     "data": {
      "text/html": [
       "<html>\\(\\displaystyle \\verb|Ux|\\verb| |\\verb|=|\\verb| |\\verb|y,|\\verb| |\\verb|&lt;===>|\\verb| |\\verb|:| \\left(\\begin{array}{rrr}\n",
       "1 & 1 & 1 \\\\\n",
       "0 & 1 & 2 \\\\\n",
       "0 & 0 & -1\n",
       "\\end{array}\\right) \\verb|x|\\verb| |\\verb|=|\\verb| |\\verb|y|\\)</html>"
      ],
      "text/latex": [
       "$\\displaystyle \\verb|Ux|\\verb| |\\verb|=|\\verb| |\\verb|y,|\\verb| |\\verb|<===>|\\verb| |\\verb|:| \\left(\\begin{array}{rrr}\n",
       "1 & 1 & 1 \\\\\n",
       "0 & 1 & 2 \\\\\n",
       "0 & 0 & -1\n",
       "\\end{array}\\right) \\verb|x|\\verb| |\\verb|=|\\verb| |\\verb|y|$"
      ],
      "text/plain": [
       "'Ux = y, <===> :' [ 1  1  1]\n",
       "[ 0  1  2]\n",
       "[ 0  0 -1] 'x = y'"
      ]
     },
     "metadata": {},
     "output_type": "display_data"
    },
    {
     "name": "stdout",
     "output_type": "stream",
     "text": [
      "--------------\n"
     ]
    },
    {
     "data": {
      "text/html": [
       "<html>\\(\\displaystyle \\verb|We're|\\verb| |\\verb|solving:|\\verb| |\\verb|y|\\verb| |\\verb|=|\\verb| |\\verb|L^(-1)B,|\\verb| |\\verb|&lt;===>|\\verb| |\\verb|y|\\verb| |\\verb|=| \\left(\\begin{array}{rrr}\n",
       "1 & 0 & 0 \\\\\n",
       "-1 & 1 & 0 \\\\\n",
       "-2 & -1 & 1\n",
       "\\end{array}\\right) \\left(\\begin{array}{r}\n",
       "2 \\\\\n",
       "3 \\\\\n",
       "7\n",
       "\\end{array}\\right)\\)</html>"
      ],
      "text/latex": [
       "$\\displaystyle \\verb|We're|\\verb| |\\verb|solving:|\\verb| |\\verb|y|\\verb| |\\verb|=|\\verb| |\\verb|L^(-1)B,|\\verb| |\\verb|<===>|\\verb| |\\verb|y|\\verb| |\\verb|=| \\left(\\begin{array}{rrr}\n",
       "1 & 0 & 0 \\\\\n",
       "-1 & 1 & 0 \\\\\n",
       "-2 & -1 & 1\n",
       "\\end{array}\\right) \\left(\\begin{array}{r}\n",
       "2 \\\\\n",
       "3 \\\\\n",
       "7\n",
       "\\end{array}\\right)$"
      ],
      "text/plain": [
       "\"We're solving: y = L^(-1)B, <===> y =\" [ 1  0  0]\n",
       "[-1  1  0]\n",
       "[-2 -1  1] [2]\n",
       "[3]\n",
       "[7]"
      ]
     },
     "metadata": {},
     "output_type": "display_data"
    },
    {
     "name": "stdout",
     "output_type": "stream",
     "text": [
      "\n"
     ]
    },
    {
     "data": {
      "text/html": [
       "<html>\\(\\displaystyle \\verb|We're|\\verb| |\\verb|solving:|\\verb| |\\verb|x|\\verb| |\\verb|=|\\verb| |\\verb|U^(-1)y,|\\verb| |\\verb|&lt;===>|\\verb| |\\verb|x|\\verb| |\\verb|=| \\left(\\begin{array}{rrr}\n",
       "1 & -1 & -1 \\\\\n",
       "0 & 1 & 2 \\\\\n",
       "0 & 0 & -1\n",
       "\\end{array}\\right) \\verb|y|\\)</html>"
      ],
      "text/latex": [
       "$\\displaystyle \\verb|We're|\\verb| |\\verb|solving:|\\verb| |\\verb|x|\\verb| |\\verb|=|\\verb| |\\verb|U^(-1)y,|\\verb| |\\verb|<===>|\\verb| |\\verb|x|\\verb| |\\verb|=| \\left(\\begin{array}{rrr}\n",
       "1 & -1 & -1 \\\\\n",
       "0 & 1 & 2 \\\\\n",
       "0 & 0 & -1\n",
       "\\end{array}\\right) \\verb|y|$"
      ],
      "text/plain": [
       "\"We're solving: x = U^(-1)y, <===> x =\" [ 1 -1 -1]\n",
       "[ 0  1  2]\n",
       "[ 0  0 -1] 'y'"
      ]
     },
     "metadata": {},
     "output_type": "display_data"
    },
    {
     "name": "stdout",
     "output_type": "stream",
     "text": [
      "--------------\n"
     ]
    },
    {
     "data": {
      "text/html": [
       "<html>\\(\\displaystyle \\verb|We're|\\verb| |\\verb|computing|\\verb| |\\verb|vector|\\verb| |\\verb|y|\\verb| |\\verb|=| \\left(\\begin{array}{r}\n",
       "2 \\\\\n",
       "1 \\\\\n",
       "0\n",
       "\\end{array}\\right)\\)</html>"
      ],
      "text/latex": [
       "$\\displaystyle \\verb|We're|\\verb| |\\verb|computing|\\verb| |\\verb|vector|\\verb| |\\verb|y|\\verb| |\\verb|=| \\left(\\begin{array}{r}\n",
       "2 \\\\\n",
       "1 \\\\\n",
       "0\n",
       "\\end{array}\\right)$"
      ],
      "text/plain": [
       "\"We're computing vector y = \" [2]\n",
       "[1]\n",
       "[0]"
      ]
     },
     "metadata": {},
     "output_type": "display_data"
    },
    {
     "name": "stdout",
     "output_type": "stream",
     "text": [
      "\n"
     ]
    },
    {
     "data": {
      "text/html": [
       "<html>\\(\\displaystyle \\verb|Next|\\verb| |\\verb|we're|\\verb| |\\verb|calculating|\\verb| |\\verb|vector|\\verb| |\\verb|x|\\verb| |\\verb|=|\\verb| |\\verb|U^(-1)y,|\\verb| |\\verb|&lt;===>|\\verb| |\\verb|x|\\verb| |\\verb|=| \\left(\\begin{array}{rrr}\n",
       "1 & -1 & -1 \\\\\n",
       "0 & 1 & 2 \\\\\n",
       "0 & 0 & -1\n",
       "\\end{array}\\right) \\left(\\begin{array}{r}\n",
       "2 \\\\\n",
       "1 \\\\\n",
       "0\n",
       "\\end{array}\\right)\\)</html>"
      ],
      "text/latex": [
       "$\\displaystyle \\verb|Next|\\verb| |\\verb|we're|\\verb| |\\verb|calculating|\\verb| |\\verb|vector|\\verb| |\\verb|x|\\verb| |\\verb|=|\\verb| |\\verb|U^(-1)y,|\\verb| |\\verb|<===>|\\verb| |\\verb|x|\\verb| |\\verb|=| \\left(\\begin{array}{rrr}\n",
       "1 & -1 & -1 \\\\\n",
       "0 & 1 & 2 \\\\\n",
       "0 & 0 & -1\n",
       "\\end{array}\\right) \\left(\\begin{array}{r}\n",
       "2 \\\\\n",
       "1 \\\\\n",
       "0\n",
       "\\end{array}\\right)$"
      ],
      "text/plain": [
       "\"Next we're calculating vector x = U^(-1)y, <===> x =\" [ 1 -1 -1]\n",
       "[ 0  1  2]\n",
       "[ 0  0 -1] [2]\n",
       "[1]\n",
       "[0]"
      ]
     },
     "metadata": {},
     "output_type": "display_data"
    },
    {
     "name": "stdout",
     "output_type": "stream",
     "text": [
      "\n"
     ]
    },
    {
     "data": {
      "text/html": [
       "<html>\\(\\displaystyle \\verb|We|\\verb| |\\verb|end|\\verb| |\\verb|up|\\verb| |\\verb|calculating|\\verb| |\\verb|x|\\verb| |\\verb|=| \\left(\\begin{array}{r}\n",
       "1 \\\\\n",
       "1 \\\\\n",
       "0\n",
       "\\end{array}\\right)\\)</html>"
      ],
      "text/latex": [
       "$\\displaystyle \\verb|We|\\verb| |\\verb|end|\\verb| |\\verb|up|\\verb| |\\verb|calculating|\\verb| |\\verb|x|\\verb| |\\verb|=| \\left(\\begin{array}{r}\n",
       "1 \\\\\n",
       "1 \\\\\n",
       "0\n",
       "\\end{array}\\right)$"
      ],
      "text/plain": [
       "'We end up calculating x = ' [1]\n",
       "[1]\n",
       "[0]"
      ]
     },
     "metadata": {},
     "output_type": "display_data"
    }
   ],
   "source": [
    "x = solve_equation_by_LU(A,B)"
   ]
  },
  {
   "cell_type": "code",
   "execution_count": 13,
   "id": "5bdc48d4",
   "metadata": {},
   "outputs": [
    {
     "data": {
      "text/html": [
       "<html>\\(\\displaystyle \\verb|We'll|\\verb| |\\verb|solve|\\verb| |\\verb|a|\\verb| |\\verb|system|\\verb| |\\verb|of|\\verb| |\\verb|equations|\\verb| |\\verb|of|\\verb| |\\verb|the|\\verb| |\\verb|form:| \\left(\\begin{array}{rrr}\n",
       "1 & 1 & 1 \\\\\n",
       "1 & 2 & 3 \\\\\n",
       "3 & 4 & 4\n",
       "\\end{array}\\right) \\verb|x|\\verb| |\\verb|=| \\left(\\begin{array}{r}\n",
       "2 \\\\\n",
       "3 \\\\\n",
       "7\n",
       "\\end{array}\\right) \\verb| |\\verb|using|\\verb| |\\verb|the|\\verb| |\\verb|LU|\\verb| |\\verb|decomposition.|\\)</html>"
      ],
      "text/latex": [
       "$\\displaystyle \\verb|We'll|\\verb| |\\verb|solve|\\verb| |\\verb|a|\\verb| |\\verb|system|\\verb| |\\verb|of|\\verb| |\\verb|equations|\\verb| |\\verb|of|\\verb| |\\verb|the|\\verb| |\\verb|form:| \\left(\\begin{array}{rrr}\n",
       "1 & 1 & 1 \\\\\n",
       "1 & 2 & 3 \\\\\n",
       "3 & 4 & 4\n",
       "\\end{array}\\right) \\verb|x|\\verb| |\\verb|=| \\left(\\begin{array}{r}\n",
       "2 \\\\\n",
       "3 \\\\\n",
       "7\n",
       "\\end{array}\\right) \\verb| |\\verb|using|\\verb| |\\verb|the|\\verb| |\\verb|LU|\\verb| |\\verb|decomposition.|$"
      ],
      "text/plain": [
       "\"We'll solve a system of equations of the form: \" [1 1 1]\n",
       "[1 2 3]\n",
       "[3 4 4] 'x = ' [2]\n",
       "[3]\n",
       "[7] ' using the LU decomposition.'"
      ]
     },
     "metadata": {},
     "output_type": "display_data"
    },
    {
     "name": "stdout",
     "output_type": "stream",
     "text": [
      "--------------\n"
     ]
    },
    {
     "data": {
      "text/html": [
       "<html>\\(\\displaystyle \\verb|First,|\\verb| |\\verb|we'll|\\verb| |\\verb|check|\\verb| |\\verb|if|\\verb| |\\verb|there|\\verb| |\\verb|is|\\verb| |\\verb|an|\\verb| |\\verb|LU|\\verb| |\\verb|decomposition|\\verb| |\\verb|of|\\verb| |\\verb|the|\\verb| |\\verb|matrix|\\verb| |\\verb|A|\\verb| |\\verb|=| \\left(\\begin{array}{rrr}\n",
       "1 & 1 & 1 \\\\\n",
       "1 & 2 & 3 \\\\\n",
       "3 & 4 & 4\n",
       "\\end{array}\\right)\\)</html>"
      ],
      "text/latex": [
       "$\\displaystyle \\verb|First,|\\verb| |\\verb|we'll|\\verb| |\\verb|check|\\verb| |\\verb|if|\\verb| |\\verb|there|\\verb| |\\verb|is|\\verb| |\\verb|an|\\verb| |\\verb|LU|\\verb| |\\verb|decomposition|\\verb| |\\verb|of|\\verb| |\\verb|the|\\verb| |\\verb|matrix|\\verb| |\\verb|A|\\verb| |\\verb|=| \\left(\\begin{array}{rrr}\n",
       "1 & 1 & 1 \\\\\n",
       "1 & 2 & 3 \\\\\n",
       "3 & 4 & 4\n",
       "\\end{array}\\right)$"
      ],
      "text/plain": [
       "\"First, we'll check if there is an LU decomposition of the matrix A = \" [1 1 1]\n",
       "[1 2 3]\n",
       "[3 4 4]"
      ]
     },
     "metadata": {},
     "output_type": "display_data"
    },
    {
     "data": {
      "text/html": [
       "<html>\\(\\displaystyle \\verb|The|\\verb| |\\verb|matrix|\\verb| |\\verb|:| \\left(\\begin{array}{rrr}\n",
       "1 & 1 & 1 \\\\\n",
       "1 & 2 & 3 \\\\\n",
       "3 & 4 & 4\n",
       "\\end{array}\\right) \\verb|has|\\verb| |\\verb|a|\\verb| |\\verb|LU|\\verb| |\\verb|decomposition|\\verb| |\\verb|because|\\verb| |\\verb|it|\\verb| |\\verb|is|\\verb| |\\verb|quadratic,|\\verb| |\\verb|and|\\verb| |\\verb|has|\\verb| |\\verb|all|\\verb| |\\verb|leading|\\verb| |\\verb|principal|\\verb| |\\verb|minors|\\verb| |\\verb|different|\\verb| |\\verb|from|\\verb| |\\verb|zero.|\\)</html>"
      ],
      "text/latex": [
       "$\\displaystyle \\verb|The|\\verb| |\\verb|matrix|\\verb| |\\verb|:| \\left(\\begin{array}{rrr}\n",
       "1 & 1 & 1 \\\\\n",
       "1 & 2 & 3 \\\\\n",
       "3 & 4 & 4\n",
       "\\end{array}\\right) \\verb|has|\\verb| |\\verb|a|\\verb| |\\verb|LU|\\verb| |\\verb|decomposition|\\verb| |\\verb|because|\\verb| |\\verb|it|\\verb| |\\verb|is|\\verb| |\\verb|quadratic,|\\verb| |\\verb|and|\\verb| |\\verb|has|\\verb| |\\verb|all|\\verb| |\\verb|leading|\\verb| |\\verb|principal|\\verb| |\\verb|minors|\\verb| |\\verb|different|\\verb| |\\verb|from|\\verb| |\\verb|zero.|$"
      ],
      "text/plain": [
       "'The matrix :' [1 1 1]\n",
       "[1 2 3]\n",
       "[3 4 4] 'has a LU decomposition because it is quadratic, and has all leading principal minors different from zero.'"
      ]
     },
     "metadata": {},
     "output_type": "display_data"
    },
    {
     "name": "stdout",
     "output_type": "stream",
     "text": [
      "--------------\n"
     ]
    },
    {
     "data": {
      "text/html": [
       "<html>\\(\\displaystyle \\verb|We|\\verb| |\\verb|will|\\verb| |\\verb|perform|\\verb| |\\verb|an|\\verb| |\\verb|LU|\\verb| |\\verb|decomposition|\\verb| |\\verb|of|\\verb| |\\verb|the|\\verb| |\\verb|matrix|\\verb| |\\verb|:| \\left(\\begin{array}{rrr}\n",
       "1 & 1 & 1 \\\\\n",
       "1 & 2 & 3 \\\\\n",
       "3 & 4 & 4\n",
       "\\end{array}\\right)\\)</html>"
      ],
      "text/latex": [
       "$\\displaystyle \\verb|We|\\verb| |\\verb|will|\\verb| |\\verb|perform|\\verb| |\\verb|an|\\verb| |\\verb|LU|\\verb| |\\verb|decomposition|\\verb| |\\verb|of|\\verb| |\\verb|the|\\verb| |\\verb|matrix|\\verb| |\\verb|:| \\left(\\begin{array}{rrr}\n",
       "1 & 1 & 1 \\\\\n",
       "1 & 2 & 3 \\\\\n",
       "3 & 4 & 4\n",
       "\\end{array}\\right)$"
      ],
      "text/plain": [
       "'We will perform an LU decomposition of the matrix :' [1 1 1]\n",
       "[1 2 3]\n",
       "[3 4 4]"
      ]
     },
     "metadata": {},
     "output_type": "display_data"
    },
    {
     "name": "stdout",
     "output_type": "stream",
     "text": [
      "--------------\n"
     ]
    },
    {
     "data": {
      "text/html": [
       "<html>\\(\\displaystyle \\verb\"|\"\\verb\" \"\\verb\"Step:\"\\verb\" \"\\verb\"1\"\\verb\" \"\\verb\"|\"\\)</html>"
      ],
      "text/latex": [
       "$\\displaystyle \\verb\"|\"\\verb\" \"\\verb\"Step:\"\\verb\" \"\\verb\"1\"\\verb\" \"\\verb\"|\"$"
      ],
      "text/plain": [
       "'| Step: 1 |'"
      ]
     },
     "metadata": {},
     "output_type": "display_data"
    },
    {
     "name": "stdout",
     "output_type": "stream",
     "text": [
      "--------------\n"
     ]
    },
    {
     "data": {
      "text/html": [
       "<html>\\(\\displaystyle \\left(\\begin{array}{rrr}\n",
       "1 & 0 & 0 \\\\\n",
       "1.00000 & 0 & 0 \\\\\n",
       "3.00000 & 0 & 0\n",
       "\\end{array}\\right) \\left(\\begin{array}{rrr}\n",
       "1.00000 & 1.00000 & 1.00000 \\\\\n",
       "0 & 0 & 0 \\\\\n",
       "0 & 0 & 0\n",
       "\\end{array}\\right)\\)</html>"
      ],
      "text/latex": [
       "$\\displaystyle \\left(\\begin{array}{rrr}\n",
       "1 & 0 & 0 \\\\\n",
       "1.00000 & 0 & 0 \\\\\n",
       "3.00000 & 0 & 0\n",
       "\\end{array}\\right) \\left(\\begin{array}{rrr}\n",
       "1.00000 & 1.00000 & 1.00000 \\\\\n",
       "0 & 0 & 0 \\\\\n",
       "0 & 0 & 0\n",
       "\\end{array}\\right)$"
      ],
      "text/plain": [
       "[      1       0       0]\n",
       "[1.00000       0       0]\n",
       "[3.00000       0       0] [1.00000 1.00000 1.00000]\n",
       "[      0       0       0]\n",
       "[      0       0       0]"
      ]
     },
     "metadata": {},
     "output_type": "display_data"
    },
    {
     "name": "stdout",
     "output_type": "stream",
     "text": [
      "--------------\n"
     ]
    },
    {
     "data": {
      "text/html": [
       "<html>\\(\\displaystyle \\verb\"|\"\\verb\" \"\\verb\"Step:\"\\verb\" \"\\verb\"2\"\\verb\" \"\\verb\"|\"\\)</html>"
      ],
      "text/latex": [
       "$\\displaystyle \\verb\"|\"\\verb\" \"\\verb\"Step:\"\\verb\" \"\\verb\"2\"\\verb\" \"\\verb\"|\"$"
      ],
      "text/plain": [
       "'| Step: 2 |'"
      ]
     },
     "metadata": {},
     "output_type": "display_data"
    },
    {
     "name": "stdout",
     "output_type": "stream",
     "text": [
      "--------------\n"
     ]
    },
    {
     "data": {
      "text/html": [
       "<html>\\(\\displaystyle \\left(\\begin{array}{rrr}\n",
       "1 & 0 & 0 \\\\\n",
       "1.00000 & 1 & 0 \\\\\n",
       "3.00000 & 1.00000 & 0\n",
       "\\end{array}\\right) \\left(\\begin{array}{rrr}\n",
       "1.00000 & 1.00000 & 1.00000 \\\\\n",
       "0 & 1.00000 & 2.00000 \\\\\n",
       "0 & 0 & 0\n",
       "\\end{array}\\right)\\)</html>"
      ],
      "text/latex": [
       "$\\displaystyle \\left(\\begin{array}{rrr}\n",
       "1 & 0 & 0 \\\\\n",
       "1.00000 & 1 & 0 \\\\\n",
       "3.00000 & 1.00000 & 0\n",
       "\\end{array}\\right) \\left(\\begin{array}{rrr}\n",
       "1.00000 & 1.00000 & 1.00000 \\\\\n",
       "0 & 1.00000 & 2.00000 \\\\\n",
       "0 & 0 & 0\n",
       "\\end{array}\\right)$"
      ],
      "text/plain": [
       "[      1       0       0]\n",
       "[1.00000       1       0]\n",
       "[3.00000 1.00000       0] [1.00000 1.00000 1.00000]\n",
       "[      0 1.00000 2.00000]\n",
       "[      0       0       0]"
      ]
     },
     "metadata": {},
     "output_type": "display_data"
    },
    {
     "name": "stdout",
     "output_type": "stream",
     "text": [
      "--------------\n"
     ]
    },
    {
     "data": {
      "text/html": [
       "<html>\\(\\displaystyle \\verb\"|\"\\verb\" \"\\verb\"Step:\"\\verb\" \"\\verb\"3\"\\verb\" \"\\verb\"|\"\\)</html>"
      ],
      "text/latex": [
       "$\\displaystyle \\verb\"|\"\\verb\" \"\\verb\"Step:\"\\verb\" \"\\verb\"3\"\\verb\" \"\\verb\"|\"$"
      ],
      "text/plain": [
       "'| Step: 3 |'"
      ]
     },
     "metadata": {},
     "output_type": "display_data"
    },
    {
     "name": "stdout",
     "output_type": "stream",
     "text": [
      "--------------\n"
     ]
    },
    {
     "data": {
      "text/html": [
       "<html>\\(\\displaystyle \\left(\\begin{array}{rrr}\n",
       "1 & 0 & 0 \\\\\n",
       "1.00000 & 1 & 0 \\\\\n",
       "3.00000 & 1.00000 & 1\n",
       "\\end{array}\\right) \\left(\\begin{array}{rrr}\n",
       "1.00000 & 1.00000 & 1.00000 \\\\\n",
       "0 & 1.00000 & 2.00000 \\\\\n",
       "0 & 0 & -1.00000\n",
       "\\end{array}\\right)\\)</html>"
      ],
      "text/latex": [
       "$\\displaystyle \\left(\\begin{array}{rrr}\n",
       "1 & 0 & 0 \\\\\n",
       "1.00000 & 1 & 0 \\\\\n",
       "3.00000 & 1.00000 & 1\n",
       "\\end{array}\\right) \\left(\\begin{array}{rrr}\n",
       "1.00000 & 1.00000 & 1.00000 \\\\\n",
       "0 & 1.00000 & 2.00000 \\\\\n",
       "0 & 0 & -1.00000\n",
       "\\end{array}\\right)$"
      ],
      "text/plain": [
       "[      1       0       0]\n",
       "[1.00000       1       0]\n",
       "[3.00000 1.00000       1] [ 1.00000  1.00000  1.00000]\n",
       "[       0  1.00000  2.00000]\n",
       "[       0        0 -1.00000]"
      ]
     },
     "metadata": {},
     "output_type": "display_data"
    },
    {
     "name": "stdout",
     "output_type": "stream",
     "text": [
      "--------------\n"
     ]
    },
    {
     "data": {
      "text/html": [
       "<html>\\(\\displaystyle \\verb|Thus,|\\verb| |\\verb|we|\\verb| |\\verb|have|\\verb| |\\verb|two|\\verb| |\\verb|systems|\\verb| |\\verb|of|\\verb| |\\verb|equations|\\verb| |\\verb|to|\\verb| |\\verb|solve:|\\)</html>"
      ],
      "text/latex": [
       "$\\displaystyle \\verb|Thus,|\\verb| |\\verb|we|\\verb| |\\verb|have|\\verb| |\\verb|two|\\verb| |\\verb|systems|\\verb| |\\verb|of|\\verb| |\\verb|equations|\\verb| |\\verb|to|\\verb| |\\verb|solve:|$"
      ],
      "text/plain": [
       "'Thus, we have two systems of equations to solve:'"
      ]
     },
     "metadata": {},
     "output_type": "display_data"
    },
    {
     "name": "stdout",
     "output_type": "stream",
     "text": [
      "\n"
     ]
    },
    {
     "data": {
      "text/html": [
       "<html>\\(\\displaystyle \\verb|Ly|\\verb| |\\verb|=|\\verb| |\\verb|B,|\\verb| |\\verb|&lt;===>|\\verb| |\\verb|:| \\left(\\begin{array}{rrr}\n",
       "1 & 0 & 0 \\\\\n",
       "1.00000 & 1 & 0 \\\\\n",
       "3.00000 & 1.00000 & 1\n",
       "\\end{array}\\right) \\verb|y|\\verb| |\\verb|=| \\left(\\begin{array}{r}\n",
       "2 \\\\\n",
       "3 \\\\\n",
       "7\n",
       "\\end{array}\\right)\\)</html>"
      ],
      "text/latex": [
       "$\\displaystyle \\verb|Ly|\\verb| |\\verb|=|\\verb| |\\verb|B,|\\verb| |\\verb|<===>|\\verb| |\\verb|:| \\left(\\begin{array}{rrr}\n",
       "1 & 0 & 0 \\\\\n",
       "1.00000 & 1 & 0 \\\\\n",
       "3.00000 & 1.00000 & 1\n",
       "\\end{array}\\right) \\verb|y|\\verb| |\\verb|=| \\left(\\begin{array}{r}\n",
       "2 \\\\\n",
       "3 \\\\\n",
       "7\n",
       "\\end{array}\\right)$"
      ],
      "text/plain": [
       "'Ly = B, <===> :' [      1       0       0]\n",
       "[1.00000       1       0]\n",
       "[3.00000 1.00000       1] 'y = ' [2]\n",
       "[3]\n",
       "[7]"
      ]
     },
     "metadata": {},
     "output_type": "display_data"
    },
    {
     "name": "stdout",
     "output_type": "stream",
     "text": [
      "\n"
     ]
    },
    {
     "data": {
      "text/html": [
       "<html>\\(\\displaystyle \\verb|Ux|\\verb| |\\verb|=|\\verb| |\\verb|y,|\\verb| |\\verb|&lt;===>|\\verb| |\\verb|:| \\left(\\begin{array}{rrr}\n",
       "1.00000 & 1.00000 & 1.00000 \\\\\n",
       "0 & 1.00000 & 2.00000 \\\\\n",
       "0 & 0 & -1.00000\n",
       "\\end{array}\\right) \\verb|x|\\verb| |\\verb|=|\\verb| |\\verb|y|\\)</html>"
      ],
      "text/latex": [
       "$\\displaystyle \\verb|Ux|\\verb| |\\verb|=|\\verb| |\\verb|y,|\\verb| |\\verb|<===>|\\verb| |\\verb|:| \\left(\\begin{array}{rrr}\n",
       "1.00000 & 1.00000 & 1.00000 \\\\\n",
       "0 & 1.00000 & 2.00000 \\\\\n",
       "0 & 0 & -1.00000\n",
       "\\end{array}\\right) \\verb|x|\\verb| |\\verb|=|\\verb| |\\verb|y|$"
      ],
      "text/plain": [
       "'Ux = y, <===> :' [ 1.00000  1.00000  1.00000]\n",
       "[       0  1.00000  2.00000]\n",
       "[       0        0 -1.00000] 'x = y'"
      ]
     },
     "metadata": {},
     "output_type": "display_data"
    },
    {
     "name": "stdout",
     "output_type": "stream",
     "text": [
      "--------------\n"
     ]
    },
    {
     "data": {
      "text/html": [
       "<html>\\(\\displaystyle \\verb|We're|\\verb| |\\verb|solving:|\\verb| |\\verb|y|\\verb| |\\verb|=|\\verb| |\\verb|L^(-1)B,|\\verb| |\\verb|&lt;===>|\\verb| |\\verb|y|\\verb| |\\verb|=| \\left(\\begin{array}{rrr}\n",
       "1 & 0 & 0 \\\\\n",
       "-1.00000 & 1 & 0 \\\\\n",
       "-2.00000 & -1.00000 & 1\n",
       "\\end{array}\\right) \\left(\\begin{array}{r}\n",
       "2 \\\\\n",
       "3 \\\\\n",
       "7\n",
       "\\end{array}\\right)\\)</html>"
      ],
      "text/latex": [
       "$\\displaystyle \\verb|We're|\\verb| |\\verb|solving:|\\verb| |\\verb|y|\\verb| |\\verb|=|\\verb| |\\verb|L^(-1)B,|\\verb| |\\verb|<===>|\\verb| |\\verb|y|\\verb| |\\verb|=| \\left(\\begin{array}{rrr}\n",
       "1 & 0 & 0 \\\\\n",
       "-1.00000 & 1 & 0 \\\\\n",
       "-2.00000 & -1.00000 & 1\n",
       "\\end{array}\\right) \\left(\\begin{array}{r}\n",
       "2 \\\\\n",
       "3 \\\\\n",
       "7\n",
       "\\end{array}\\right)$"
      ],
      "text/plain": [
       "\"We're solving: y = L^(-1)B, <===> y =\" [       1        0        0]\n",
       "[-1.00000        1        0]\n",
       "[-2.00000 -1.00000        1] [2]\n",
       "[3]\n",
       "[7]"
      ]
     },
     "metadata": {},
     "output_type": "display_data"
    },
    {
     "name": "stdout",
     "output_type": "stream",
     "text": [
      "\n"
     ]
    },
    {
     "data": {
      "text/html": [
       "<html>\\(\\displaystyle \\verb|We're|\\verb| |\\verb|solving:|\\verb| |\\verb|x|\\verb| |\\verb|=|\\verb| |\\verb|U^(-1)y,|\\verb| |\\verb|&lt;===>|\\verb| |\\verb|x|\\verb| |\\verb|=| \\left(\\begin{array}{rrr}\n",
       "1.00000 & -1.00000 & -1.00000 \\\\\n",
       "0 & 1.00000 & 2.00000 \\\\\n",
       "0 & 0 & -1.00000\n",
       "\\end{array}\\right) \\verb|y|\\)</html>"
      ],
      "text/latex": [
       "$\\displaystyle \\verb|We're|\\verb| |\\verb|solving:|\\verb| |\\verb|x|\\verb| |\\verb|=|\\verb| |\\verb|U^(-1)y,|\\verb| |\\verb|<===>|\\verb| |\\verb|x|\\verb| |\\verb|=| \\left(\\begin{array}{rrr}\n",
       "1.00000 & -1.00000 & -1.00000 \\\\\n",
       "0 & 1.00000 & 2.00000 \\\\\n",
       "0 & 0 & -1.00000\n",
       "\\end{array}\\right) \\verb|y|$"
      ],
      "text/plain": [
       "\"We're solving: x = U^(-1)y, <===> x =\" [ 1.00000 -1.00000 -1.00000]\n",
       "[       0  1.00000  2.00000]\n",
       "[       0        0 -1.00000] 'y'"
      ]
     },
     "metadata": {},
     "output_type": "display_data"
    },
    {
     "name": "stdout",
     "output_type": "stream",
     "text": [
      "--------------\n"
     ]
    },
    {
     "data": {
      "text/html": [
       "<html>\\(\\displaystyle \\verb|We're|\\verb| |\\verb|computing|\\verb| |\\verb|vector|\\verb| |\\verb|y|\\verb| |\\verb|=| \\left(\\begin{array}{r}\n",
       "2 \\\\\n",
       "1.00000 \\\\\n",
       "0.000000\n",
       "\\end{array}\\right)\\)</html>"
      ],
      "text/latex": [
       "$\\displaystyle \\verb|We're|\\verb| |\\verb|computing|\\verb| |\\verb|vector|\\verb| |\\verb|y|\\verb| |\\verb|=| \\left(\\begin{array}{r}\n",
       "2 \\\\\n",
       "1.00000 \\\\\n",
       "0.000000\n",
       "\\end{array}\\right)$"
      ],
      "text/plain": [
       "\"We're computing vector y = \" [       2]\n",
       "[ 1.00000]\n",
       "[0.000000]"
      ]
     },
     "metadata": {},
     "output_type": "display_data"
    },
    {
     "name": "stdout",
     "output_type": "stream",
     "text": [
      "\n"
     ]
    },
    {
     "data": {
      "text/html": [
       "<html>\\(\\displaystyle \\verb|Next|\\verb| |\\verb|we're|\\verb| |\\verb|calculating|\\verb| |\\verb|vector|\\verb| |\\verb|x|\\verb| |\\verb|=|\\verb| |\\verb|U^(-1)y,|\\verb| |\\verb|&lt;===>|\\verb| |\\verb|x|\\verb| |\\verb|=| \\left(\\begin{array}{rrr}\n",
       "1.00000 & -1.00000 & -1.00000 \\\\\n",
       "0 & 1.00000 & 2.00000 \\\\\n",
       "0 & 0 & -1.00000\n",
       "\\end{array}\\right) \\left(\\begin{array}{r}\n",
       "2 \\\\\n",
       "1.00000 \\\\\n",
       "0.000000\n",
       "\\end{array}\\right)\\)</html>"
      ],
      "text/latex": [
       "$\\displaystyle \\verb|Next|\\verb| |\\verb|we're|\\verb| |\\verb|calculating|\\verb| |\\verb|vector|\\verb| |\\verb|x|\\verb| |\\verb|=|\\verb| |\\verb|U^(-1)y,|\\verb| |\\verb|<===>|\\verb| |\\verb|x|\\verb| |\\verb|=| \\left(\\begin{array}{rrr}\n",
       "1.00000 & -1.00000 & -1.00000 \\\\\n",
       "0 & 1.00000 & 2.00000 \\\\\n",
       "0 & 0 & -1.00000\n",
       "\\end{array}\\right) \\left(\\begin{array}{r}\n",
       "2 \\\\\n",
       "1.00000 \\\\\n",
       "0.000000\n",
       "\\end{array}\\right)$"
      ],
      "text/plain": [
       "\"Next we're calculating vector x = U^(-1)y, <===> x =\" [ 1.00000 -1.00000 -1.00000]\n",
       "[       0  1.00000  2.00000]\n",
       "[       0        0 -1.00000] [       2]\n",
       "[ 1.00000]\n",
       "[0.000000]"
      ]
     },
     "metadata": {},
     "output_type": "display_data"
    },
    {
     "name": "stdout",
     "output_type": "stream",
     "text": [
      "\n"
     ]
    },
    {
     "data": {
      "text/html": [
       "<html>\\(\\displaystyle \\verb|We|\\verb| |\\verb|end|\\verb| |\\verb|up|\\verb| |\\verb|calculating|\\verb| |\\verb|x|\\verb| |\\verb|=| \\left(\\begin{array}{r}\n",
       "1.00000 \\\\\n",
       "1.00000 \\\\\n",
       "0\n",
       "\\end{array}\\right)\\)</html>"
      ],
      "text/latex": [
       "$\\displaystyle \\verb|We|\\verb| |\\verb|end|\\verb| |\\verb|up|\\verb| |\\verb|calculating|\\verb| |\\verb|x|\\verb| |\\verb|=| \\left(\\begin{array}{r}\n",
       "1.00000 \\\\\n",
       "1.00000 \\\\\n",
       "0\n",
       "\\end{array}\\right)$"
      ],
      "text/plain": [
       "'We end up calculating x = ' [1.00000]\n",
       "[1.00000]\n",
       "[      0]"
      ]
     },
     "metadata": {},
     "output_type": "display_data"
    }
   ],
   "source": [
    "x_N = solve_equation_by_LU(A,B, numeric = True, digits = 6)"
   ]
  }
 ],
 "metadata": {
  "kernelspec": {
   "display_name": "SageMath 10.2",
   "language": "sage",
   "name": "sagemath"
  },
  "language_info": {
   "codemirror_mode": {
    "name": "ipython",
    "version": 3
   },
   "file_extension": ".py",
   "mimetype": "text/x-python",
   "name": "python",
   "nbconvert_exporter": "python",
   "pygments_lexer": "ipython3",
   "version": "3.11.1"
  }
 },
 "nbformat": 4,
 "nbformat_minor": 5
}
